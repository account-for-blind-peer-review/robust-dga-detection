{
 "cells": [
  {
   "cell_type": "markdown",
   "id": "40f2f8d1-31ad-46f9-8332-3f199b29f1ef",
   "metadata": {},
   "source": [
    "# Generating Adversarial Domain Names with MaskDGA-WB\n",
    "This notebook contains example code for generating fully valid adversarial e2LDs using the modified white-box part of the MaskDGA adversarial attack.\n",
    "\n",
    "MaskDGA was introduced in the paper:\n",
    "\n",
    "Lior Sidi, Asaf Nadler, and Asaf Shabtai. “MaskDGA: An Evasion Attack\n",
    "Against DGA Classifiers and Adversarial Defenses”. In: IEEE Access 8 (2020),\n",
    "pp. 161580–161592. doi: 10.1109/ACCESS.2020.3020964.\n",
    "\n",
    "The concepts are explained step by step, allowing you to apply these attacks to your own models!"
   ]
  },
  {
   "cell_type": "code",
   "execution_count": 1,
   "id": "9964c4cd-b076-45ad-a3dd-58fbf43bfa5d",
   "metadata": {},
   "outputs": [],
   "source": [
    "import torch\n",
    "import os\n",
    "from robust_dga_detection.models import CNNResNetWithEmbedding\n",
    "from robust_dga_detection.utils import domains, reproduceability\n",
    "\n",
    "DEVICE = torch.device(\"cuda\" if torch.cuda.is_available() else \"cpu\")\n",
    "reproduceability.setup_deterministic_environment()"
   ]
  },
  {
   "cell_type": "markdown",
   "id": "a36218b6-f239-4c83-8fce-408abb0b312f",
   "metadata": {},
   "source": [
    "## Step 1: Load a model to attack"
   ]
  },
  {
   "cell_type": "code",
   "execution_count": 2,
   "id": "8c874a3d-2e26-4af1-beed-2bf22aaebd7c",
   "metadata": {},
   "outputs": [],
   "source": [
    "model = CNNResNetWithEmbedding().to(DEVICE)"
   ]
  },
  {
   "cell_type": "code",
   "execution_count": 3,
   "id": "da5df286-75e9-423d-9984-ff37f581eb75",
   "metadata": {},
   "outputs": [
    {
     "data": {
      "text/plain": [
       "<All keys matched successfully>"
      ]
     },
     "execution_count": 3,
     "metadata": {},
     "output_type": "execute_result"
    }
   ],
   "source": [
    "model.load_state_dict(\n",
    "    torch.load(os.getenv(\"TRAINED_MODEL_PATH\"))\n",
    ")"
   ]
  },
  {
   "cell_type": "markdown",
   "id": "5b5a2b8c-aca5-4336-8f99-56a6223740c3",
   "metadata": {},
   "source": [
    "## Step 2: Setup the MaskDGA-WB Attack\n",
    "\n",
    "Our implementation of the MaskDGA-WB attack internally uses a One-Hot representation of domain names for more convinient gradient computation.\n",
    "We use the `OneHotModelInputWrapper` to facilitate a model that can accept such inputs."
   ]
  },
  {
   "cell_type": "code",
   "execution_count": 4,
   "id": "6fff6cbb-31d5-4682-afc7-f6319401965d",
   "metadata": {},
   "outputs": [],
   "source": [
    "from robust_dga_detection.attacks.nlp import OneHotModelInputWrapper, MaskDGA\n",
    "\n",
    "onehot_model = OneHotModelInputWrapper(model)\n",
    "attack = MaskDGA(onehot_model)"
   ]
  },
  {
   "cell_type": "markdown",
   "id": "04ffc2e8-6bec-4900-ac88-37f0a1e0a18d",
   "metadata": {},
   "source": [
    "## Step 3: Generate adversarial domain names"
   ]
  },
  {
   "cell_type": "code",
   "execution_count": 5,
   "id": "03aa4764-2b69-498e-af59-45564d7e97b9",
   "metadata": {},
   "outputs": [],
   "source": [
    "input_domain = \"lmlabssssssssentasdasdasdasdasdasdasd\""
   ]
  },
  {
   "cell_type": "markdown",
   "id": "d7398fe1-3a62-492c-8b33-ccf6c1af3259",
   "metadata": {},
   "source": [
    "Measure the models prediction on the input domain"
   ]
  },
  {
   "cell_type": "code",
   "execution_count": 7,
   "id": "382cc01b-42c0-43a1-b6fd-1940a7bc2759",
   "metadata": {},
   "outputs": [
    {
     "name": "stdout",
     "output_type": "stream",
     "text": [
      "Baseline model value: 0.9897634983062744\n"
     ]
    }
   ],
   "source": [
    "encoded_domains = torch.unsqueeze(domains.encode_domain(input_domain), dim=0).to(DEVICE)\n",
    "labels = torch.Tensor([1]).long().to(DEVICE)\n",
    "print(f\"Baseline model value: {torch.sigmoid(model(encoded_domains)).item()}\")"
   ]
  },
  {
   "cell_type": "markdown",
   "id": "bf161aef-5d72-4db9-b69c-774098574237",
   "metadata": {},
   "source": [
    "Use MaskDGA-WB to generate an adversarial domain and measure how good the generated AE is"
   ]
  },
  {
   "cell_type": "code",
   "execution_count": 8,
   "id": "0daf7c19-d427-41a9-a6c1-1600c9edb46f",
   "metadata": {},
   "outputs": [
    {
     "name": "stdout",
     "output_type": "stream",
     "text": [
      "Generated adversarial domain lmla-ssssss-se-ta-d0-90--0-01-d5s11sd\n",
      "Model-Value on adversarial domain 6.23141739417613e-25\n"
     ]
    }
   ],
   "source": [
    "adversarial_encoded_domains = attack([input_domain], encoded_domains, labels)\n",
    "generated_domain = domains.decode_domains(adversarial_encoded_domains)[0]\n",
    "\n",
    "print(f\"Generated adversarial domain {generated_domain}\")\n",
    "print(f\"Model-Value on adversarial domain {torch.sigmoid(model(adversarial_encoded_domains)).item()}\")"
   ]
  },
  {
   "cell_type": "markdown",
   "id": "7fa6c678-623b-435a-958c-fae858338c32",
   "metadata": {},
   "source": [
    "We hope this notebook provided you with the details required for testing your models against our attacks.\n",
    "Nevertheless, do not hesitate to reach out if you have any questions."
   ]
  }
 ],
 "metadata": {
  "kernelspec": {
   "display_name": "Python 3 (ipykernel)",
   "language": "python",
   "name": "python3"
  },
  "language_info": {
   "codemirror_mode": {
    "name": "ipython",
    "version": 3
   },
   "file_extension": ".py",
   "mimetype": "text/x-python",
   "name": "python",
   "nbconvert_exporter": "python",
   "pygments_lexer": "ipython3",
   "version": "3.11.6"
  }
 },
 "nbformat": 4,
 "nbformat_minor": 5
}
