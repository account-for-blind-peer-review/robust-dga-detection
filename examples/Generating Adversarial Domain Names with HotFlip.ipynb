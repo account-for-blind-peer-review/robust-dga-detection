{
 "cells": [
  {
   "cell_type": "markdown",
   "id": "48590592-9ee7-443c-a597-f34b2616dbc8",
   "metadata": {},
   "source": [
    "# Generating Adversarial Domain Names with HotFlip\n",
    "This notebook contains example code for generating fully valid adversarial e2LDs using the modified HotFlip adversarial attack.\n",
    "\n",
    "The original HotFlip attack was introduced in the paper:\n",
    "\n",
    "Javid Ebrahimi et al. “HotFlip: White-Box Adversarial Examples for Text\n",
    "Classification”. In: Proceedings of the 56th Annual Meeting of the Association\n",
    "for Computational Linguistics (Volume 2: Short Papers). Melbourne, Australia:\n",
    "Association for Computational Linguistics, July 2018, pp. 31–36. doi: 10.18653/v1/P18-2006. url: https://aclanthology.org/P18-2006.\n",
    "\n",
    "Note that we did not fully implement all proposed ideas of the original HotFlip paper (we e.g., did not implement encoding insertion and deletion as a single operation)\n",
    "\n",
    "The concepts are explained step by step, allowing you to apply these attacks to your own models!"
   ]
  },
  {
   "cell_type": "code",
   "execution_count": 1,
   "id": "094a571e-acd7-4c9e-83bc-528ba07397d2",
   "metadata": {},
   "outputs": [],
   "source": [
    "import torch\n",
    "import os\n",
    "from robust_dga_detection.models import CNNResNetWithEmbedding\n",
    "from robust_dga_detection.utils import domains, reproduceability\n",
    "\n",
    "DEVICE = torch.device(\"cuda\" if torch.cuda.is_available() else \"cpu\")\n",
    "reproduceability.setup_deterministic_environment()"
   ]
  },
  {
   "cell_type": "markdown",
   "id": "65a5c0e1-6bcb-46bd-bfeb-9ce5014aac3d",
   "metadata": {},
   "source": [
    "## Step 1: Load a model to attack"
   ]
  },
  {
   "cell_type": "code",
   "execution_count": 2,
   "id": "c6255ff3-9e28-4a18-bd34-9070707aa8c6",
   "metadata": {},
   "outputs": [],
   "source": [
    "model = CNNResNetWithEmbedding().to(DEVICE)"
   ]
  },
  {
   "cell_type": "code",
   "execution_count": 3,
   "id": "2f1952b2-bd23-479e-a7aa-c3ccc9923f45",
   "metadata": {},
   "outputs": [
    {
     "data": {
      "text/plain": [
       "<All keys matched successfully>"
      ]
     },
     "execution_count": 3,
     "metadata": {},
     "output_type": "execute_result"
    }
   ],
   "source": [
    "model.load_state_dict(\n",
    "    torch.load(os.getenv(\"TRAINED_MODEL_PATH\"))\n",
    ")"
   ]
  },
  {
   "cell_type": "markdown",
   "id": "973c5222-0435-4a97-b4fd-d2a0af2cd2c9",
   "metadata": {},
   "source": [
    "## Step 2: Setup the HotFlip Attack\n",
    "\n",
    "Our implementation of the HotFlip attack internally uses a One-Hot representation of domain names for more convinient gradient computation.\n",
    "We use the `OneHotModelInputWrapper` to facilitate a model that can accept such inputs."
   ]
  },
  {
   "cell_type": "code",
   "execution_count": 4,
   "id": "f8cb8144-91e9-414d-814f-4c134d878243",
   "metadata": {},
   "outputs": [],
   "source": [
    "from robust_dga_detection.attacks.nlp import OneHotModelInputWrapper, HotFlip\n",
    "\n",
    "onehot_model = OneHotModelInputWrapper(model)"
   ]
  },
  {
   "cell_type": "code",
   "execution_count": 5,
   "id": "d6eb6392-abc2-4b9e-8c3f-44d038d4aea3",
   "metadata": {},
   "outputs": [],
   "source": [
    "beam_width = 10\n",
    "n_flips = 5\n",
    "\n",
    "attack = HotFlip(onehot_model, beam_width, n_flips)"
   ]
  },
  {
   "cell_type": "markdown",
   "id": "3815ea43-d42d-46e9-acef-aa72ee76e026",
   "metadata": {},
   "source": [
    "## Step 3: Generate adversarial domain names"
   ]
  },
  {
   "cell_type": "code",
   "execution_count": 6,
   "id": "005fbcd8-6b52-4932-9c2a-21ce52b00b7e",
   "metadata": {},
   "outputs": [],
   "source": [
    "input_domain = \"lmlabssssssssentasdasdasdasdasdasdasd\""
   ]
  },
  {
   "cell_type": "markdown",
   "id": "6fad0422-4c64-4794-bd3c-784b8f5da9a7",
   "metadata": {},
   "source": [
    "Measure the models prediction on the input domain"
   ]
  },
  {
   "cell_type": "code",
   "execution_count": 8,
   "id": "4acbf4b3-244e-45fd-9422-4d1facebcd37",
   "metadata": {},
   "outputs": [
    {
     "name": "stdout",
     "output_type": "stream",
     "text": [
      "Baseline model value: 0.9897634983062744\n"
     ]
    }
   ],
   "source": [
    "encoded_domains = torch.unsqueeze(domains.encode_domain(input_domain), dim=0).to(DEVICE)\n",
    "labels = torch.Tensor([1]).long().to(DEVICE)\n",
    "print(f\"Baseline model value: {torch.sigmoid(model(encoded_domains)).item()}\")"
   ]
  },
  {
   "cell_type": "markdown",
   "id": "448798be-09a4-4095-9d61-d47ed0d55e6d",
   "metadata": {},
   "source": [
    "Use HotFlip to generate an adversarial domain and measure how good the generated AE is"
   ]
  },
  {
   "cell_type": "code",
   "execution_count": 10,
   "id": "912e0045-fb0e-480d-85db-b8d991e52e72",
   "metadata": {},
   "outputs": [
    {
     "name": "stdout",
     "output_type": "stream",
     "text": [
      "Generated adversarial domain lmlabssssssssentasdasda--a--a-dasdasd\n",
      "Model-Value on adversarial domain 1.8483806152325144e-10\n"
     ]
    }
   ],
   "source": [
    "adversarial_encoded_domains = attack([input_domain], encoded_domains, labels)\n",
    "generated_domain = domains.decode_domains(adversarial_encoded_domains)[0]\n",
    "\n",
    "print(f\"Generated adversarial domain {generated_domain}\")\n",
    "print(f\"Model-Value on adversarial domain {torch.sigmoid(model(adversarial_encoded_domains)).item()}\")"
   ]
  },
  {
   "cell_type": "markdown",
   "id": "86e109db-8aa8-4095-8988-932a38be700c",
   "metadata": {},
   "source": [
    "We hope this notebook provided you with the details required for testing your models against our attacks.\n",
    "Nevertheless, do not hesitate to reach out if you have any questions."
   ]
  }
 ],
 "metadata": {
  "kernelspec": {
   "display_name": "Python 3 (ipykernel)",
   "language": "python",
   "name": "python3"
  },
  "language_info": {
   "codemirror_mode": {
    "name": "ipython",
    "version": 3
   },
   "file_extension": ".py",
   "mimetype": "text/x-python",
   "name": "python",
   "nbconvert_exporter": "python",
   "pygments_lexer": "ipython3",
   "version": "3.11.6"
  }
 },
 "nbformat": 4,
 "nbformat_minor": 5
}
